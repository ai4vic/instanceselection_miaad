{
 "cells": [
  {
   "cell_type": "code",
   "execution_count": 2,
   "metadata": {},
   "outputs": [],
   "source": [
    "from src.main.python.iSel import cnn, enn, icf, lssm, lsbo, drop3, ldis, cdis, xldis, psdsp, ib3, cis, egdis\n",
    "from src.main.python.utils.general import get_data\n",
    "from sklearn.neighbors import KNeighborsClassifier\n",
    "from sklearn.metrics import accuracy_score"
   ]
  },
  {
   "cell_type": "code",
   "execution_count": 3,
   "metadata": {},
   "outputs": [],
   "source": [
    "def get_selector(method: str):\n",
    "\n",
    "    if method == 'cnn':     return cnn.CNN()\n",
    "    if method == 'enn':     return enn.ENN()\n",
    "    if method == 'icf':     return enn.ICF()\n",
    "    if method == 'lssm':    return lssm.LSSm()\n",
    "    if method == 'ldis':    return ldis.LDIS()\n",
    "    if method == 'cdis':    return cdis.CDIS()\n",
    "    if method == 'xldis':   return xldis.XLDIS()\n",
    "    if method == 'psdsp':   return psdsp.PSDSP()\n",
    "    if method == 'ib3':     return ib3.IB3()\n",
    "    if method == 'egdis':   return egdis.EGDIS()\n",
    "    if method == 'cis':     return cis.CIS(task=\"atc\")\n",
    "\n",
    "    return None"
   ]
  },
  {
   "attachments": {},
   "cell_type": "markdown",
   "metadata": {},
   "source": [
    "# Opening data - aisopos_ntua_2L dataset"
   ]
  },
  {
   "cell_type": "code",
   "execution_count": 6,
   "metadata": {},
   "outputs": [],
   "source": [
    "inputdir = \"resources/datasets/aisopos_ntua_2L/tfidf/\"\n",
    "\n",
    "X_train, y_train, X_test, y_test, _ = get_data(inputdir, f=0)"
   ]
  },
  {
   "attachments": {},
   "cell_type": "markdown",
   "metadata": {},
   "source": [
    "# Example CNN - Selecting Instances"
   ]
  },
  {
   "cell_type": "code",
   "execution_count": 8,
   "metadata": {},
   "outputs": [],
   "source": [
    "selector = get_selector(method=\"cnn\")\n",
    "selector.fit(X_train, y_train)\n",
    "idx = selector.sample_indices_\n",
    "X_train_selected, y_train_selected =  X_train[idx], y_train[idx]"
   ]
  },
  {
   "attachments": {},
   "cell_type": "markdown",
   "metadata": {},
   "source": [
    "# Example CNN - Comparing Classifiers"
   ]
  },
  {
   "cell_type": "code",
   "execution_count": 10,
   "metadata": {},
   "outputs": [
    {
     "name": "stdout",
     "output_type": "stream",
     "text": [
      "NoSel: 0.75\n",
      "CNN: 0.7857142857142857\n"
     ]
    }
   ],
   "source": [
    "clf = KNeighborsClassifier(n_neighbors=1)\n",
    "clf.fit(X_train, y_train)\n",
    "\n",
    "y_pred = clf.predict(X_test)\n",
    "acc = accuracy_score(y_test, y_pred)\n",
    "\n",
    "print(f\"NoSel: {acc}\")\n",
    "\n",
    "clf = KNeighborsClassifier(n_neighbors=1)\n",
    "clf.fit(X_train_selected, y_train_selected)\n",
    "\n",
    "y_pred = clf.predict(X_test)\n",
    "acc = accuracy_score(y_test, y_pred)\n",
    "\n",
    "print(f\"CNN: {acc}\")\n"
   ]
  }
 ],
 "metadata": {
  "kernelspec": {
   "display_name": "instanceselection",
   "language": "python",
   "name": "inst-sel"
  },
  "language_info": {
   "codemirror_mode": {
    "name": "ipython",
    "version": 3
   },
   "file_extension": ".py",
   "mimetype": "text/x-python",
   "name": "python",
   "nbconvert_exporter": "python",
   "pygments_lexer": "ipython3",
   "version": "3.6.15"
  },
  "orig_nbformat": 4
 },
 "nbformat": 4,
 "nbformat_minor": 2
}
